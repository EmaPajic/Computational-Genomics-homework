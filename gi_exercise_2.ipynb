{
  "nbformat": 4,
  "nbformat_minor": 0,
  "metadata": {
    "colab": {
      "name": "gi_exercise_2.ipynb",
      "provenance": [],
      "collapsed_sections": []
    },
    "kernelspec": {
      "name": "python3",
      "display_name": "Python 3"
    },
    "language_info": {
      "name": "python"
    }
  },
  "cells": [
    {
      "cell_type": "code",
      "metadata": {
        "colab": {
          "base_uri": "https://localhost:8080/"
        },
        "id": "9wkdCUfLedD3",
        "outputId": "84728f0b-fd32-44c2-faf5-c8191c4cf673"
      },
      "source": [
        "!pip install pysam"
      ],
      "execution_count": 4,
      "outputs": [
        {
          "output_type": "stream",
          "text": [
            "Requirement already satisfied: pysam in /usr/local/lib/python3.7/dist-packages (0.16.0.1)\n"
          ],
          "name": "stdout"
        }
      ]
    },
    {
      "cell_type": "code",
      "metadata": {
        "colab": {
          "base_uri": "https://localhost:8080/"
        },
        "id": "DF6WopMkg0X2",
        "outputId": "8a4b5502-6489-46e6-e792-cf40c066992d"
      },
      "source": [
        "from google.colab import drive\n",
        "drive.mount('/content/drive')"
      ],
      "execution_count": 5,
      "outputs": [
        {
          "output_type": "stream",
          "text": [
            "Drive already mounted at /content/drive; to attempt to forcibly remount, call drive.mount(\"/content/drive\", force_remount=True).\n"
          ],
          "name": "stdout"
        }
      ]
    },
    {
      "cell_type": "code",
      "metadata": {
        "colab": {
          "base_uri": "https://localhost:8080/"
        },
        "id": "gt2wUkZYhUka",
        "outputId": "01a0a837-5e45-4140-c3bb-b198f43584e3"
      },
      "source": [
        "%cd /content/drive/My\\ Drive/genomska/"
      ],
      "execution_count": 6,
      "outputs": [
        {
          "output_type": "stream",
          "text": [
            "/content/drive/My Drive/genomska\n"
          ],
          "name": "stdout"
        }
      ]
    },
    {
      "cell_type": "code",
      "metadata": {
        "colab": {
          "base_uri": "https://localhost:8080/"
        },
        "id": "mdkt7n03hjZ1",
        "outputId": "b304fcc4-e0ea-469a-a002-7e647733743b"
      },
      "source": [
        "import pysam\n",
        "\n",
        "def main():\n",
        "    path_to_file = 'merged-tumor.bam'\n",
        "    num_unmapped = 0\n",
        "    num_reads = 0\n",
        "    num_mapping_quality_0 = 0\n",
        "    sum_mapping_quality = 0\n",
        "    \n",
        "    for read in pysam.AlignmentFile(path_to_file):\n",
        "        num_reads += 1\n",
        "        sum_mapping_quality += read.mapping_quality\n",
        "        \n",
        "        if read.flag & 4:\n",
        "            num_unmapped += 1\n",
        "        if read.mapping_quality == 0:\n",
        "            num_mapping_quality_0 += 1\n",
        "            \n",
        "    avg_mapping_quality = sum_mapping_quality / num_reads\n",
        "    avg_mapping_quality_without_0s = sum_mapping_quality /(num_reads - num_mapping_quality_0)\n",
        "    \n",
        "    print(\"Number of unmapped reads: \", num_unmapped)\n",
        "    print(\"Total number of reads: \", num_reads)\n",
        "    print(\"Number of reads with mapping quality 0: \", num_mapping_quality_0)\n",
        "    print(\"Average mapping quality: \",avg_mapping_quality)\n",
        "    print(\"Average mapping quality if reads with mapping quality 0 are filtered out: \", \n",
        "          avg_mapping_quality_without_0s)\n",
        "\n",
        "if __name__ == '__main__':\n",
        "    main()"
      ],
      "execution_count": 8,
      "outputs": [
        {
          "output_type": "stream",
          "text": [
            "Number of unmapped reads:  17765\n",
            "Total number of reads:  2921629\n",
            "Number of reads with mapping quality 0:  126628\n",
            "Average mapping quality:  55.91379158681681\n",
            "Average mapping quality if reads with mapping quality 0 are filtered out:  58.446975510921106\n"
          ],
          "name": "stdout"
        }
      ]
    }
  ]
}